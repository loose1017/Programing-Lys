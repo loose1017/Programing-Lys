{
  "nbformat": 4,
  "nbformat_minor": 0,
  "metadata": {
    "colab": {
      "provenance": []
    },
    "kernelspec": {
      "name": "python3",
      "display_name": "Python 3"
    },
    "language_info": {
      "name": "python"
    }
  },
  "cells": [
    {
      "cell_type": "code",
      "execution_count": 3,
      "metadata": {
        "colab": {
          "base_uri": "https://localhost:8080/"
        },
        "id": "IbAQ93BhhOv2",
        "outputId": "52c5b556-459a-4cee-bc5a-77b3025734c2"
      },
      "outputs": [
        {
          "output_type": "stream",
          "name": "stdout",
          "text": [
            "hello world!\n"
          ]
        }
      ],
      "source": [
        "print('hello world!')"
      ]
    },
    {
      "cell_type": "code",
      "source": [
        "print('my name is Ye Seong Lee')"
      ],
      "metadata": {
        "colab": {
          "base_uri": "https://localhost:8080/"
        },
        "id": "ztO4c99whlqU",
        "outputId": "e67b56d0-168f-467c-a75e-44a590442bfd"
      },
      "execution_count": 2,
      "outputs": [
        {
          "output_type": "stream",
          "name": "stdout",
          "text": [
            "my name is Ye Seong Lee\n"
          ]
        }
      ]
    },
    {
      "cell_type": "markdown",
      "source": [
        "지금 부터는 c 언어로 해봅시다"
      ],
      "metadata": {
        "id": "PwQhV2LJiOCR"
      }
    },
    {
      "cell_type": "code",
      "source": [
        "%%writefile hello.c\n",
        "/* 주석(커멘트) 나만 이해하는 내맘대로 메모 */\n",
        "\n",
        "#include <stdio.h>\n",
        "int main(void)\n",
        "{\n",
        "    printf(\"hello world!\");\n",
        "\n",
        "    return 0;\n",
        "}"
      ],
      "metadata": {
        "colab": {
          "base_uri": "https://localhost:8080/"
        },
        "id": "WU3NYA02iN0l",
        "outputId": "364311b5-c8ef-4a6a-b254-8ddd010e7fad"
      },
      "execution_count": 20,
      "outputs": [
        {
          "output_type": "stream",
          "name": "stdout",
          "text": [
            "Overwriting hello.c\n"
          ]
        }
      ]
    },
    {
      "cell_type": "code",
      "source": [
        "ls"
      ],
      "metadata": {
        "colab": {
          "base_uri": "https://localhost:8080/"
        },
        "id": "Tv4RS1Adi2ua",
        "outputId": "b4a05024-1cd9-4c02-e87d-a65d35c422f8"
      },
      "execution_count": 21,
      "outputs": [
        {
          "output_type": "stream",
          "name": "stdout",
          "text": [
            "hello.c  \u001b[0m\u001b[01;32moutput\u001b[0m*  \u001b[01;34msample_data\u001b[0m/\n"
          ]
        }
      ]
    },
    {
      "cell_type": "code",
      "source": [
        "%%shell\n",
        "\n",
        "gcc hello.c -o output\n",
        "./output"
      ],
      "metadata": {
        "colab": {
          "base_uri": "https://localhost:8080/"
        },
        "id": "qgmBbYd3i6Bs",
        "outputId": "ff24f4b4-0403-4366-be1c-682476bef07d"
      },
      "execution_count": 22,
      "outputs": [
        {
          "output_type": "stream",
          "name": "stdout",
          "text": [
            "hello world!"
          ]
        },
        {
          "output_type": "execute_result",
          "data": {
            "text/plain": []
          },
          "metadata": {},
          "execution_count": 22
        }
      ]
    },
    {
      "cell_type": "code",
      "source": [],
      "metadata": {
        "id": "wo0SDVUhjrdy"
      },
      "execution_count": null,
      "outputs": []
    }
  ]
}