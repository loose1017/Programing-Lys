{
  "nbformat": 4,
  "nbformat_minor": 0,
  "metadata": {
    "colab": {
      "provenance": [],
      "authorship_tag": "ABX9TyPugR0Mw46smHMfIi8OhnV3"
    },
    "kernelspec": {
      "name": "python3",
      "display_name": "Python 3"
    },
    "language_info": {
      "name": "python"
    }
  },
  "cells": [
    {
      "cell_type": "code",
      "execution_count": 1,
      "metadata": {
        "colab": {
          "base_uri": "https://localhost:8080/"
        },
        "id": "vUAFXyJGtIuu",
        "outputId": "fedd8187-0316-42e2-9748-5cc5ba1c0c34"
      },
      "outputs": [
        {
          "output_type": "stream",
          "name": "stdout",
          "text": [
            "Writing 4chic.c\n"
          ]
        }
      ],
      "source": [
        "%%writefile 4chic.c\n",
        "\n",
        "#include <stdio.h>\n",
        "\n",
        "int main(void)\n",
        "{\n",
        "    int x;\n",
        "    int y;\n",
        "    int result;\n",
        "\n",
        "    printf(\"첫 번째 숫자를 입력하시오:\");\n",
        "    scanf(\"%d\",&x);\n",
        "\n",
        "    printf(\"두 번째 숫자를 입력하시오\");\n",
        "    scanf(\"%d\",&y);\n",
        "\n",
        "    result = x + y;\n",
        "    printf(\"두 수의 합=%d \\n\", result);\n",
        "\n",
        "    result = x - y;\n",
        "    printf(\"두 수의 차=%d \\n\", result);\n",
        "    \n",
        "    result = x * y;\n",
        "    printf(\"두 수의 곱=%d \\n\", result);\n",
        "    \n",
        "    result = x / y;\n",
        "    printf(\"두 수의 몫=%d \\n\", result);\n",
        "    \n",
        "    return 0;\n",
        "}"
      ]
    },
    {
      "cell_type": "code",
      "source": [
        "%%shell\n",
        "\n",
        "gcc 4chic.c -o output\n",
        "./output"
      ],
      "metadata": {
        "colab": {
          "base_uri": "https://localhost:8080/"
        },
        "id": "Euo24nfoumKw",
        "outputId": "7d1301f9-9ecc-4f21-cafe-384d9db6df03"
      },
      "execution_count": 2,
      "outputs": [
        {
          "output_type": "stream",
          "name": "stdout",
          "text": [
            "첫 번째 숫자를 입력하시오:25\n",
            "두 번째 숫자를 입력하시오35\n",
            "두 수의 합=60 \n",
            "두 수의 차=-10 \n",
            "두 수의 곱=875 \n",
            "두 수의 몫=0 \n"
          ]
        },
        {
          "output_type": "execute_result",
          "data": {
            "text/plain": []
          },
          "metadata": {},
          "execution_count": 2
        }
      ]
    },
    {
      "cell_type": "markdown",
      "source": [
        "##lab 2-2 상품의 평균 가격 계산"
      ],
      "metadata": {
        "id": "icsBhLVPvCBv"
      }
    },
    {
      "cell_type": "code",
      "source": [
        "%%writefile 4chic2.c\n",
        "\n",
        "#include <stdio.h>\n",
        "\n",
        "int main(void)\n",
        "{\n",
        "    int x;\n",
        "    int y;\n",
        "    int sum;\n",
        "\n",
        "    printf(\"상품 1:\");\n",
        "    scanf(\"%d\",&x);\n",
        "\n",
        "    printf(\"상품 2:\");\n",
        "    scanf(\"%d\",&y);\n",
        "\n",
        "    sum = (x + y)/2.0;\n",
        "    printf(\"평균 가격=%d\",sum);\n",
        "\n",
        "    return 0;\n",
        "    \n",
        "}"
      ],
      "metadata": {
        "colab": {
          "base_uri": "https://localhost:8080/"
        },
        "id": "ZMZQikF0uuwO",
        "outputId": "503eef38-b660-4a7d-c6a0-4830593cfb8b"
      },
      "execution_count": 8,
      "outputs": [
        {
          "output_type": "stream",
          "name": "stdout",
          "text": [
            "Overwriting 4chic2.c\n"
          ]
        }
      ]
    },
    {
      "cell_type": "code",
      "source": [
        "%%shell\n",
        "gcc 4chic2.c -o output\n",
        "./output"
      ],
      "metadata": {
        "colab": {
          "base_uri": "https://localhost:8080/"
        },
        "id": "gvMOrHtiwI6b",
        "outputId": "d220187a-8bf9-49a4-93ae-7e8ee01c828e"
      },
      "execution_count": 9,
      "outputs": [
        {
          "output_type": "stream",
          "name": "stdout",
          "text": [
            "상품 1:5000\n",
            "상품 2:3000\n",
            "평균 가격=4000"
          ]
        },
        {
          "output_type": "execute_result",
          "data": {
            "text/plain": []
          },
          "metadata": {},
          "execution_count": 9
        }
      ]
    },
    {
      "cell_type": "markdown",
      "source": [
        "##lab 2-3 여행 비용 계산"
      ],
      "metadata": {
        "id": "u1zTru9SxL_v"
      }
    },
    {
      "cell_type": "code",
      "source": [
        "%%writefile 4chic3.c\n",
        "\n",
        "#include <stdio.h>\n",
        "\n",
        "int main(void)\n",
        "{\n",
        "    int x;\n",
        "    int y;\n",
        "    int z;\n",
        "    int a;\n",
        "    int total;\n",
        "\n",
        "    printf(\"여행은 몇 박인가요?:\");\n",
        "    scanf(\"%d\", &x);\n",
        "\n",
        "    printf(\"항공권 가격:\");\n",
        "    scanf(\"%d\", &y);\n",
        "\n",
        "    printf(\"호텔 1박 가격:\");\n",
        "    scanf(\"%d\", &z);\n",
        "\n",
        "    printf(\"하루에 필요한 용돈:\");\n",
        "    scanf(\"%d\", &a);\n",
        "\n",
        "    total = y + (z + a)*x;\n",
        "    printf(\"======================= \\n\");\n",
        "    printf(\"총 여행 비용:%d \\n\", total);   \n",
        "    printf(\"======================= \\n\");\n",
        "    return 0;\n",
        "    \n",
        "}"
      ],
      "metadata": {
        "colab": {
          "base_uri": "https://localhost:8080/"
        },
        "id": "r1QVsJl3wPn5",
        "outputId": "1c6d7057-40b3-45db-e8a3-8503602ba503"
      },
      "execution_count": 16,
      "outputs": [
        {
          "output_type": "stream",
          "name": "stdout",
          "text": [
            "Overwriting 4chic3.c\n"
          ]
        }
      ]
    },
    {
      "cell_type": "code",
      "source": [
        "%%shell\n",
        "gcc 4chic3.c -o output\n",
        "./output"
      ],
      "metadata": {
        "colab": {
          "base_uri": "https://localhost:8080/"
        },
        "id": "4xSywjuzyxHx",
        "outputId": "e0b08ece-b4e2-4841-d2b1-0ce05225a120"
      },
      "execution_count": 17,
      "outputs": [
        {
          "output_type": "stream",
          "name": "stdout",
          "text": [
            "여행은 몇 박인가요?:3\n",
            "항공권 가격:1000000\n",
            "호텔 1박 가격:200000\n",
            "하루에 필요한 용돈:50000\n",
            "======================= \n",
            "총 여행 비용:1750000 \n",
            "======================= \n"
          ]
        },
        {
          "output_type": "execute_result",
          "data": {
            "text/plain": []
          },
          "metadata": {},
          "execution_count": 17
        }
      ]
    },
    {
      "cell_type": "code",
      "source": [],
      "metadata": {
        "id": "hyDPNemezeiN"
      },
      "execution_count": null,
      "outputs": []
    }
  ]
}